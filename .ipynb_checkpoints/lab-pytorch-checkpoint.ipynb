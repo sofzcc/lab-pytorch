{
 "cells": [
  {
   "cell_type": "markdown",
   "id": "49b68a6a-8d82-4210-8c0a-0a6eaa49f62e",
   "metadata": {},
   "source": [
    "# Pytorch exercises"
   ]
  },
  {
   "cell_type": "code",
   "execution_count": 1,
   "id": "b31b5ef3",
   "metadata": {},
   "outputs": [],
   "source": [
    "import torch\n",
    "import torch.nn.functional as F\n",
    "import torch.cuda as cuda"
   ]
  },
  {
   "cell_type": "markdown",
   "id": "1094e566-47c6-4ab1-9035-a023efd5fb43",
   "metadata": {},
   "source": [
    "Exercise 1: Write a PyTorch code to create a tensor of size (3, 3) filled with random values between 0 and 1."
   ]
  },
  {
   "cell_type": "code",
   "execution_count": 2,
   "id": "94699d52",
   "metadata": {},
   "outputs": [
    {
     "data": {
      "text/plain": [
       "tensor([[0.8389, 0.9392, 0.9067],\n",
       "        [0.1755, 0.4731, 0.7642],\n",
       "        [0.7072, 0.3515, 0.1909]])"
      ]
     },
     "execution_count": 2,
     "metadata": {},
     "output_type": "execute_result"
    }
   ],
   "source": [
    "tensor1 = torch.rand(3, 3)\n",
    "tensor1"
   ]
  },
  {
   "cell_type": "markdown",
   "id": "9098d6da-dab2-4295-8800-1144dc621aa1",
   "metadata": {},
   "source": [
    "Exercise 2:\n",
    "Create a tensor of size (5, 2) filled with zeros."
   ]
  },
  {
   "cell_type": "code",
   "execution_count": 24,
   "id": "5f27efb1",
   "metadata": {},
   "outputs": [
    {
     "name": "stdout",
     "output_type": "stream",
     "text": [
      "Tensor with shape ( 5 , 2 ) is\n",
      " tensor([[0., 0.],\n",
      "        [0., 0.],\n",
      "        [0., 0.],\n",
      "        [0., 0.],\n",
      "        [0., 0.]])\n"
     ]
    }
   ],
   "source": [
    "tensor2 = torch.zeros(5, 2)\n",
    "print(\"Tensor with shape\", \"(\", tensor2.shape[0],\",\", tensor2.shape[1], \") is\\n\", tensor2)"
   ]
  },
  {
   "cell_type": "markdown",
   "id": "20f77911-49bc-4086-9dcc-6e59543a2216",
   "metadata": {},
   "source": [
    "Exercise 3:\n",
    "Implement a PyTorch code to multiply two tensors of size (2, 3) and (3, 4) respectively."
   ]
  },
  {
   "cell_type": "code",
   "execution_count": 30,
   "id": "b491b3d1",
   "metadata": {},
   "outputs": [
    {
     "name": "stdout",
     "output_type": "stream",
     "text": [
      "tensor([[0.0802, 0.0916, 0.8455],\n",
      "        [0.9092, 0.5492, 0.2925]]) \n",
      "\n",
      "multiplied by\n",
      "\n",
      " tensor([[0.8367, 0.5831, 0.7388, 0.1956],\n",
      "        [0.7997, 0.4449, 0.7839, 0.4815],\n",
      "        [0.7704, 0.5308, 0.6829, 0.6527]]) \n",
      "is\n",
      " tensor([[0.7917, 0.5363, 0.7084, 0.6116],\n",
      "        [1.4253, 0.9298, 1.3021, 0.6332]])\n"
     ]
    }
   ],
   "source": [
    "\n",
    "tensor3a = torch.rand(2, 3)\n",
    "tensor3b = torch.rand(3, 4)\n",
    "tensor3 = torch.matmul(tensor3a, tensor3b)\n",
    "print(tensor3a, \"\\n\\nmultiplied by\\n\\n\", tensor3b, \"\\nis\\n\", tensor3)"
   ]
  },
  {
   "cell_type": "markdown",
   "id": "b7e71a2d-8c07-49d6-bde9-f40628bff3f5",
   "metadata": {},
   "source": [
    "Exercise 4:\n",
    "Create a PyTorch tensor with values ranging from 5 to 10."
   ]
  },
  {
   "cell_type": "code",
   "execution_count": 5,
   "id": "7d0297f8",
   "metadata": {},
   "outputs": [
    {
     "data": {
      "text/plain": [
       "tensor([ 5.0000,  5.5556,  6.1111,  6.6667,  7.2222,  7.7778,  8.3333,  8.8889,\n",
       "         9.4444, 10.0000])"
      ]
     },
     "execution_count": 5,
     "metadata": {},
     "output_type": "execute_result"
    }
   ],
   "source": [
    "tensor4 = torch.linspace(5, 10, steps=10)\n",
    "tensor4\n"
   ]
  },
  {
   "cell_type": "markdown",
   "id": "f97b337b-6277-42d2-b3e3-fd8a0afe9d34",
   "metadata": {},
   "source": [
    "Exercise 5:\n",
    "Write a PyTorch code to compute the mean of a tensor."
   ]
  },
  {
   "cell_type": "code",
   "execution_count": 33,
   "id": "9fc375c2",
   "metadata": {},
   "outputs": [
    {
     "name": "stdout",
     "output_type": "stream",
     "text": [
      "The mean of\n",
      " tensor([0.8634, 0.2821, 0.5023, 0.4224, 0.0490, 0.8096, 0.7048, 0.9306, 0.7182,\n",
      "        0.8550]) is 0.6137380003929138\n"
     ]
    }
   ],
   "source": [
    "\n",
    "tensor5 = torch.rand(10)\n",
    "mean5 = float(tensor5.mean())\n",
    "print(\"The mean of\\n\", tensor5, \"is\", mean5)"
   ]
  },
  {
   "cell_type": "markdown",
   "id": "6d9025a2-86df-469e-905d-5ae2189d2882",
   "metadata": {},
   "source": [
    "Exercise 6:\n",
    "Implement a PyTorch code to compute the element-wise product of two tensors of the same size."
   ]
  },
  {
   "cell_type": "code",
   "execution_count": 34,
   "id": "14786187",
   "metadata": {},
   "outputs": [
    {
     "name": "stdout",
     "output_type": "stream",
     "text": [
      "tensor([[0.9886, 0.5833, 0.0466],\n",
      "        [0.7511, 0.2501, 0.0670],\n",
      "        [0.4330, 0.8214, 0.0335]]) \n",
      "\n",
      "multiplied by\n",
      "\n",
      " tensor([[0.2806, 0.8625, 0.8702],\n",
      "        [0.9227, 0.8237, 0.8858],\n",
      "        [0.1426, 0.0484, 0.5425]]) \n",
      "is\n",
      " tensor([[0.2774, 0.5031, 0.0405],\n",
      "        [0.6931, 0.2060, 0.0593],\n",
      "        [0.0618, 0.0398, 0.0182]])\n"
     ]
    }
   ],
   "source": [
    "tensor6a = torch.rand(3, 3)\n",
    "tensor6b = torch.rand(3, 3)\n",
    "tensor6 = tensor6a * tensor6b\n",
    "print(tensor6a, \"\\n\\nmultiplied by\\n\\n\", tensor6b, \"\\nis\\n\", tensor6)"
   ]
  },
  {
   "cell_type": "markdown",
   "id": "6f5d4a20-f9fb-440a-92fa-14c7232954cf",
   "metadata": {},
   "source": [
    "Exercise 7:\n",
    "Create a PyTorch tensor with values sampled from a normal distribution with mean 0 and standard deviation 1."
   ]
  },
  {
   "cell_type": "code",
   "execution_count": 8,
   "id": "f1683e01",
   "metadata": {},
   "outputs": [
    {
     "data": {
      "text/plain": [
       "tensor([[-0.6642,  0.4063,  1.6447],\n",
       "        [-1.5506, -0.7032, -0.3389],\n",
       "        [-0.7503, -0.1167,  0.1539]])"
      ]
     },
     "execution_count": 8,
     "metadata": {},
     "output_type": "execute_result"
    }
   ],
   "source": [
    "\n",
    "tensor7 = torch.randn(3, 3)\n",
    "tensor7\n"
   ]
  },
  {
   "cell_type": "markdown",
   "id": "eaaf5142-be8b-41fe-9f5f-93d76a865c95",
   "metadata": {},
   "source": [
    "Exercise 8:\n",
    "Write a PyTorch code to find the maximum value in a tensor."
   ]
  },
  {
   "cell_type": "code",
   "execution_count": 9,
   "id": "65469a02",
   "metadata": {},
   "outputs": [
    {
     "data": {
      "text/plain": [
       "tensor(0.9100)"
      ]
     },
     "execution_count": 9,
     "metadata": {},
     "output_type": "execute_result"
    }
   ],
   "source": [
    "tensor8 = torch.rand(10)\n",
    "max_val = tensor8.max()\n",
    "max_val"
   ]
  },
  {
   "cell_type": "markdown",
   "id": "a0fafddc-7d69-40f0-ac39-ac6f8efd463f",
   "metadata": {},
   "source": [
    "Exercise 9:\n",
    "Implement a PyTorch code to compute the cross entropy loss between predicted values and target values."
   ]
  },
  {
   "cell_type": "code",
   "execution_count": 10,
   "id": "197af928",
   "metadata": {},
   "outputs": [
    {
     "data": {
      "text/plain": [
       "tensor(1.7812)"
      ]
     },
     "execution_count": 10,
     "metadata": {},
     "output_type": "execute_result"
    }
   ],
   "source": [
    "tensor9_pred = torch.rand(3, 5)\n",
    "tensor9_target = torch.empty(3, dtype=torch.long).random_(5)\n",
    "loss = F.cross_entropy(tensor9_pred, tensor9_target)\n",
    "loss"
   ]
  },
  {
   "cell_type": "markdown",
   "id": "f884a16c-5af5-4d98-9567-19832a24df1a",
   "metadata": {},
   "source": [
    "Exercise 10: Create a PyTorch tensor and then convert it to a NumPy array."
   ]
  },
  {
   "cell_type": "code",
   "execution_count": 11,
   "id": "74837ba7",
   "metadata": {},
   "outputs": [
    {
     "data": {
      "text/plain": [
       "array([0.361916  , 0.15292221, 0.20423621, 0.3008809 , 0.405793  ],\n",
       "      dtype=float32)"
      ]
     },
     "execution_count": 11,
     "metadata": {},
     "output_type": "execute_result"
    }
   ],
   "source": [
    "tensor10 = torch.rand(5)\n",
    "numpy_array = tensor10.numpy()\n",
    "numpy_array\n"
   ]
  },
  {
   "cell_type": "markdown",
   "id": "b184819f-0ecb-4a45-a3c2-e8ab40219709",
   "metadata": {},
   "source": [
    "Exercise 11:\n",
    "Write a PyTorch code to perform a matrix transpose operation on a tensor."
   ]
  },
  {
   "cell_type": "code",
   "execution_count": 12,
   "id": "44a38cc8",
   "metadata": {},
   "outputs": [
    {
     "data": {
      "text/plain": [
       "tensor([[0.1147, 0.4055],\n",
       "        [0.2985, 0.3704],\n",
       "        [0.2676, 0.4633]])"
      ]
     },
     "execution_count": 12,
     "metadata": {},
     "output_type": "execute_result"
    }
   ],
   "source": [
    "tensor11 = torch.rand(2, 3)\n",
    "tensor11_t = tensor11.t()\n",
    "tensor11_t\n"
   ]
  },
  {
   "cell_type": "markdown",
   "id": "aba9c7e6-954a-4afb-8892-9cc876e1a31c",
   "metadata": {},
   "source": [
    "Exercise 12:\n",
    "Implement a PyTorch code to concatenate two tensors along a specified dimension."
   ]
  },
  {
   "cell_type": "code",
   "execution_count": 13,
   "id": "ddf5b332",
   "metadata": {},
   "outputs": [
    {
     "data": {
      "text/plain": [
       "tensor([[0.6953, 0.9319, 0.0890, 0.3366, 0.0536, 0.1792, 0.1216, 0.6770],\n",
       "        [0.8428, 0.7802, 0.1517, 0.6361, 0.7952, 0.3056, 0.9216, 0.9158],\n",
       "        [0.5662, 0.5291, 0.6549, 0.1982, 0.2396, 0.2683, 0.9051, 0.5586]])"
      ]
     },
     "execution_count": 13,
     "metadata": {},
     "output_type": "execute_result"
    }
   ],
   "source": [
    "tensor12a = torch.rand(3, 4)\n",
    "tensor12b = torch.rand(3, 4)\n",
    "tensor12 = torch.cat((tensor12a, tensor12b), dim=1)\n",
    "tensor12\n"
   ]
  },
  {
   "cell_type": "markdown",
   "id": "d5cb17dc-1092-475d-b1a8-e788125d8cae",
   "metadata": {},
   "source": [
    "Exercise 13:\n",
    "Create a PyTorch tensor and then convert it to a CUDA tensor if CUDA is available."
   ]
  },
  {
   "cell_type": "code",
   "execution_count": 14,
   "id": "0a3ac5af",
   "metadata": {},
   "outputs": [
    {
     "name": "stdout",
     "output_type": "stream",
     "text": [
      "Cuda not available, original tensor:  tensor([0.0478, 0.9145, 0.3266, 0.6658, 0.6541])\n"
     ]
    }
   ],
   "source": [
    "tensor13 = torch.rand(5)\n",
    "if torch.cuda.is_available():\n",
    "    tensor13_cuda = tensor13.to('cuda')\n",
    "    print(\"\\nExercise 13:\\n\", tensor13_cuda)\n",
    "else:\n",
    "    print(\"Cuda not available, original tensor: \", tensor13)"
   ]
  },
  {
   "cell_type": "markdown",
   "id": "5f18a6ee-691d-480b-ae73-d4e1fa118add",
   "metadata": {},
   "source": [
    "Exercise 14:\n",
    "Write a PyTorch code to find the indices of non-zero elements in a tensor."
   ]
  },
  {
   "cell_type": "code",
   "execution_count": 15,
   "id": "2b79cf2b",
   "metadata": {},
   "outputs": [
    {
     "data": {
      "text/plain": [
       "tensor([[0],\n",
       "        [1],\n",
       "        [2],\n",
       "        [4]])"
      ]
     },
     "execution_count": 15,
     "metadata": {},
     "output_type": "execute_result"
    }
   ],
   "source": [
    "tensor14 = torch.tensor([1, 1, 1, 0, 1])\n",
    "nz = torch.nonzero(tensor14)\n",
    "nz\n"
   ]
  },
  {
   "cell_type": "markdown",
   "id": "57417899-4ff0-466f-9b33-6a2a11161e02",
   "metadata": {},
   "source": [
    "Exercise 15:\n",
    "Implement a PyTorch code to perform element-wise exponentiation on a tensor."
   ]
  },
  {
   "cell_type": "code",
   "execution_count": 16,
   "id": "b325abc6",
   "metadata": {},
   "outputs": [
    {
     "data": {
      "text/plain": [
       "tensor([1.0988, 1.1937, 1.0301])"
      ]
     },
     "execution_count": 16,
     "metadata": {},
     "output_type": "execute_result"
    }
   ],
   "source": [
    "tensor15 = torch.rand(3)\n",
    "tensor15_exp = tensor15.exp()\n",
    "tensor15_exp\n"
   ]
  },
  {
   "cell_type": "markdown",
   "id": "535fa4bd-67fe-4fd8-aa8d-e854f2590558",
   "metadata": {},
   "source": [
    "Exercise 16:\n",
    "Create a PyTorch tensor and then reshape it into a tensor of different dimensions."
   ]
  },
  {
   "cell_type": "code",
   "execution_count": 17,
   "id": "0497cc40",
   "metadata": {},
   "outputs": [
    {
     "name": "stdout",
     "output_type": "stream",
     "text": [
      "Original:  tensor([[0.2661, 0.2288, 0.8502, 0.7513],\n",
      "        [0.5792, 0.7695, 0.0251, 0.9525],\n",
      "        [0.2709, 0.0355, 0.6951, 0.8094],\n",
      "        [0.7471, 0.4691, 0.9903, 0.8906]]) \n",
      "\n",
      "Reshaped:  tensor([[0.2661, 0.2288, 0.8502, 0.7513, 0.5792, 0.7695, 0.0251, 0.9525],\n",
      "        [0.2709, 0.0355, 0.6951, 0.8094, 0.7471, 0.4691, 0.9903, 0.8906]])\n"
     ]
    }
   ],
   "source": [
    "tensor16 = torch.rand(4, 4)\n",
    "tensor16_reshaped = tensor16.view(2, 8)\n",
    "print(\"Original: \", tensor16, \"\\n\\nReshaped: \", tensor16_reshaped)\n"
   ]
  },
  {
   "cell_type": "markdown",
   "id": "4e7b7502-e668-4567-a8b3-5f6bc840beb2",
   "metadata": {},
   "source": [
    "Exercise 17:\n",
    "Write a PyTorch code to compute the cosine similarity between two tensors."
   ]
  },
  {
   "cell_type": "code",
   "execution_count": 18,
   "id": "c3486034",
   "metadata": {},
   "outputs": [
    {
     "name": "stdout",
     "output_type": "stream",
     "text": [
      "Cos_sim of tensor([0.9948, 0.9620, 0.4523]) and tensor([0.1399, 0.7373, 0.5299]) is: tensor([0.8135])\n"
     ]
    }
   ],
   "source": [
    "tensor17a = torch.rand(3)\n",
    "tensor17b = torch.rand(3)\n",
    "cos_sim = F.cosine_similarity(tensor17a.unsqueeze(0), tensor17b.unsqueeze(0))\n",
    "print(\"Cos_sim of\",tensor17a, \"and\", tensor17b, \"is:\",cos_sim)"
   ]
  },
  {
   "cell_type": "markdown",
   "id": "d13b01c7-00b0-4e05-a233-3e1177a88f86",
   "metadata": {},
   "source": [
    "Exercise 18: Implement a PyTorch code to perform element-wise logarithm on a tensor."
   ]
  },
  {
   "cell_type": "code",
   "execution_count": 19,
   "id": "f559b7e7",
   "metadata": {},
   "outputs": [
    {
     "name": "stdout",
     "output_type": "stream",
     "text": [
      "The logarithmn of tensor([0.1780, 0.4720, 0.6896]) is tensor([-1.7258, -0.7507, -0.3717])\n"
     ]
    }
   ],
   "source": [
    "tensor18 = torch.rand(3)\n",
    "tensor18_log = tensor18.log()\n",
    "print(\"The logarithmn of\", tensor18, \"is\", tensor18_log)"
   ]
  },
  {
   "cell_type": "markdown",
   "id": "f12264f6-d86c-42ca-ab15-6ae5162321e3",
   "metadata": {},
   "source": [
    "Exercise 19:\n",
    "Create a PyTorch tensor and then calculate its standard deviation."
   ]
  },
  {
   "cell_type": "code",
   "execution_count": 20,
   "id": "af0a8c2a",
   "metadata": {},
   "outputs": [
    {
     "name": "stdout",
     "output_type": "stream",
     "text": [
      "The standard deviation of tensor([0.1739, 0.2023, 0.5710, 0.6482, 0.2742, 0.1935, 0.7061, 0.6033, 0.3839,\n",
      "        0.6411]) is tensor(0.2153)\n"
     ]
    }
   ],
   "source": [
    "tensor19 = torch.rand(10)\n",
    "std_dev = tensor19.std()\n",
    "print(\"The standard deviation of\", tensor19, \"is\", std_dev)"
   ]
  },
  {
   "cell_type": "markdown",
   "id": "da281285-f8ba-4020-ba33-dfeb3524f29c",
   "metadata": {},
   "source": [
    "Exercice 20: Write a PyTorch code to compute the Frobenius norm of a tensor."
   ]
  },
  {
   "cell_type": "code",
   "execution_count": 21,
   "id": "8bd27eee-8270-43d0-a785-9acdbd6424d1",
   "metadata": {},
   "outputs": [
    {
     "name": "stdout",
     "output_type": "stream",
     "text": [
      "The Frobenius norm of tensor([[0.5885, 0.1267, 0.6238],\n",
      "        [0.8819, 0.6365, 0.0520],\n",
      "        [0.5954, 0.6902, 0.9709]]) is tensor(1.9263)\n"
     ]
    }
   ],
   "source": [
    "tensor20 = torch.rand(3, 3)\n",
    "fro_norm = torch.linalg.norm(tensor20, 'fro')\n",
    "\n",
    "print(\"The Frobenius norm of\", tensor20, \"is\", fro_norm)"
   ]
  }
 ],
 "metadata": {
  "kernelspec": {
   "display_name": "Python 3 (ipykernel)",
   "language": "python",
   "name": "python3"
  },
  "language_info": {
   "codemirror_mode": {
    "name": "ipython",
    "version": 3
   },
   "file_extension": ".py",
   "mimetype": "text/x-python",
   "name": "python",
   "nbconvert_exporter": "python",
   "pygments_lexer": "ipython3",
   "version": "3.11.7"
  }
 },
 "nbformat": 4,
 "nbformat_minor": 5
}
